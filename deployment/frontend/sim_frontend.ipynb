{
 "cells": [
  {
   "cell_type": "code",
   "execution_count": 44,
   "metadata": {},
   "outputs": [
    {
     "name": "stdout",
     "output_type": "stream",
     "text": [
      "4.0\n"
     ]
    }
   ],
   "source": [
    "import pickle \n",
    "print(pickle.format_version)"
   ]
  },
  {
   "cell_type": "code",
   "execution_count": 34,
   "metadata": {},
   "outputs": [],
   "source": [
    "import requests\n",
    "import pandas as pd\n",
    "import numpy as np"
   ]
  },
  {
   "cell_type": "code",
   "execution_count": 22,
   "metadata": {},
   "outputs": [
    {
     "data": {
      "text/plain": [
       "customerID                       4983-CLMLV\n",
       "gender                               Female\n",
       "SeniorCitizen                             0\n",
       "Partner                                 Yes\n",
       "Dependents                               No\n",
       "tenure                                   52\n",
       "PhoneService                            Yes\n",
       "MultipleLines                           Yes\n",
       "InternetService                 Fiber optic\n",
       "OnlineSecurity                           No\n",
       "OnlineBackup                            Yes\n",
       "DeviceProtection                         No\n",
       "TechSupport                             Yes\n",
       "StreamingTV                             Yes\n",
       "StreamingMovies                         Yes\n",
       "Contract                     Month-to-month\n",
       "PaperlessBilling                        Yes\n",
       "PaymentMethod       Credit card (automatic)\n",
       "MonthlyCharges                        102.7\n",
       "TotalCharges                         5138.1\n",
       "Churn                                    No\n",
       "Name: 325, dtype: object"
      ]
     },
     "execution_count": 22,
     "metadata": {},
     "output_type": "execute_result"
    }
   ],
   "source": [
    "data = pd.read_csv('../../WA_Fn-UseC_-Telco-Customer-Churn.csv')\n",
    "data.iloc[325]"
   ]
  },
  {
   "cell_type": "code",
   "execution_count": 23,
   "metadata": {},
   "outputs": [],
   "source": [
    "data.drop(['customerID', 'gender', 'PhoneService', 'Churn'], axis=1, inplace=True)"
   ]
  },
  {
   "cell_type": "code",
   "execution_count": null,
   "metadata": {},
   "outputs": [],
   "source": [
    "# data_inf = dict(data.iloc[3333])\n",
    "# data_inf"
   ]
  },
  {
   "cell_type": "code",
   "execution_count": 35,
   "metadata": {},
   "outputs": [],
   "source": [
    "data_inf = {'SeniorCitizen': 'No',\n",
    " 'Partner': 'No',\n",
    " 'Dependents': 'Yes',\n",
    " 'tenure': 68,\n",
    " 'MultipleLines': 'Yes',\n",
    " 'InternetService': 'DSL',\n",
    " 'OnlineSecurity': 'Yes',\n",
    " 'OnlineBackup': 'Yes',\n",
    " 'DeviceProtection': 'Yes',\n",
    " 'TechSupport': 'Yes',\n",
    " 'StreamingTV': 'Yes',\n",
    " 'StreamingMovies': 'Yes',\n",
    " 'Contract': 'Two year',\n",
    " 'PaperlessBilling': 'No',\n",
    " 'PaymentMethod': 'Credit card (automatic)',\n",
    " 'MonthlyCharges': 88.0,\n",
    " 'TotalCharges': 6161.9\n",
    " }"
   ]
  },
  {
   "cell_type": "code",
   "execution_count": 38,
   "metadata": {},
   "outputs": [
    {
     "data": {
      "text/plain": [
       "{'Contract': 'Two year',\n",
       " 'Dependents': 'Yes',\n",
       " 'DeviceProtection': 'Yes',\n",
       " 'InternetService': 'Fiber optic',\n",
       " 'MonthlyCharges': 93.9,\n",
       " 'MultipleLines': 'Yes',\n",
       " 'OnlineBackup': 'Yes',\n",
       " 'OnlineSecurity': 'Yes',\n",
       " 'PaperlessBilling': 'No',\n",
       " 'Partner': 'Yes',\n",
       " 'PaymentMethod': 'Bank transfer (automatic)',\n",
       " 'SeniorCitizen': 'No',\n",
       " 'StreamingMovies': 'No',\n",
       " 'StreamingTV': 'No',\n",
       " 'TechSupport': 'Yes',\n",
       " 'TotalCharges': 6579,\n",
       " 'tenure': 70}"
      ]
     },
     "execution_count": 38,
     "metadata": {},
     "output_type": "execute_result"
    }
   ],
   "source": [
    "URL = 'http://127.0.0.1:5000//'\n",
    "r = requests.get(URL)\n",
    "r.json()"
   ]
  },
  {
   "cell_type": "code",
   "execution_count": 37,
   "metadata": {},
   "outputs": [
    {
     "data": {
      "text/plain": [
       "{'code': 200,\n",
       " 'predict': 0.09240585565567017,\n",
       " 'prediction': 'No',\n",
       " 'status': 'OK'}"
      ]
     },
     "execution_count": 37,
     "metadata": {},
     "output_type": "execute_result"
    }
   ],
   "source": [
    "URL = 'http://127.0.0.1:5000/churn'\n",
    "r = requests.post(URL, json=data_inf)\n",
    "r.json()"
   ]
  },
  {
   "cell_type": "code",
   "execution_count": 120,
   "metadata": {},
   "outputs": [
    {
     "data": {
      "text/plain": [
       "'No'"
      ]
     },
     "execution_count": 120,
     "metadata": {},
     "output_type": "execute_result"
    }
   ],
   "source": [
    "URL = 'https://backend-ayp10-p1m2.herokuapp.com/churn'\n",
    "r = requests.post(URL, json=data_inf)\n",
    "r.json()"
   ]
  }
 ],
 "metadata": {
  "interpreter": {
   "hash": "df0893f56f349688326838aaeea0de204df53a132722cbd565e54b24a8fec5f6"
  },
  "kernelspec": {
   "display_name": "Python 3.8.10 64-bit",
   "language": "python",
   "name": "python3"
  },
  "language_info": {
   "codemirror_mode": {
    "name": "ipython",
    "version": 3
   },
   "file_extension": ".py",
   "mimetype": "text/x-python",
   "name": "python",
   "nbconvert_exporter": "python",
   "pygments_lexer": "ipython3",
   "version": "3.8.10"
  },
  "orig_nbformat": 4
 },
 "nbformat": 4,
 "nbformat_minor": 2
}
